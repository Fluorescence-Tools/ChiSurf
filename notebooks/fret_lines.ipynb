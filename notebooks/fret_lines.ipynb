{
 "cells": [
  {
   "cell_type": "markdown",
   "metadata": {},
   "source": [
    "# FRET lines\n",
    "## Overview\n",
    "A FRET line is a projection of a parameterized model to a set of single-molecule FRET observables. Such FRET experiment typically jointly determined the fluorescence weighted average lifetime of the donor $\\langle \\tau \\rangle_f$ in the presence of an acceptor and the FRET efficiency, E, for every molecule. Next, a multidimensional frequency histogram of these parameters integrates the detected particles. Often, such histograms are called MFD histograms. The feature image shown to the top of this post displays a set of FRET lines of normally distributed donor-acceptor distances. The red and the blue line ranging from FRET efficiency zero to one corresponds to static FRET lines. Static FRET lines depend on the average donor and acceptor separation distance for a single state. The red line corresponds \"broad\" and the blue line to \"narrow\"  donor-acceptor distance distributions. Below I will outline how to calculate a FRET line in ChiSurf.\n",
    "\n",
    "## Calculation of FRET lines in ChiSurf\n",
    "\n",
    "A FRET line describes the relationships among the FRET efficiency, E, and the fluorescence weighted average lifetime for the change of a given parameter of a model function. Here, we will make use of the scripting capabilities of ChiSurf to generate a FRET line for a worm-like-chain model, WLC-model. In ChiSurf such FRET lines are calculated the most straightforward way by first creating a new \"fit\" with the model of interest. Thus, the first step is to load a \"dummy\" dataset and by creating a new \"fit\" using the model of interest as shown in the Figure below.\n",
    "\n",
    "Image1\n",
    "\n",
    "Next, adjust all parameters of the model. In this tutorial, ChiSurf will exclusively calculate the FRET lines based on the distribution of the fluorescence lifetimes. Hence, nuisance parameters as the time shift, the non-fluorescence background, etc., will not contribute. In the given an example the fraction of FRET inactive molecules \"dOnly\" is initially 0.2. Change this value to zero. Next, enable the console of ChiSurf for access to the scripting capabilities. On the figure above the console is shown in the lower part of the window.\n",
    "\n",
    "Finally, paste the script below into the console. This script will iteratively change the 'length' parameter of the WLC-model and gathers the fluorescence weighted average lifetime and the FRET efficiency in the arrays fl and fe.\n",
    "\n",
    "```python\n",
    "pa = cs.current_fit.model.parameters_all_dict['length']\n",
    "model = cs.current_fit.model\n",
    "fl = list()\n",
    "fe = list()\n",
    "scan_range = np.linspace(0.001, 1000, 100)\n",
    "for v in scan_range:\n",
    "  pa.value = v\n",
    "  fe.append(model.transfer_efficiency)\n",
    "  fl.append(model.fluorescence_averaged_lifetime)\n",
    "p.plot(fl, fe)\n",
    "np.savetxt('c://temp//out.txt',np.vstack([scan_range, fl, fe]).T)\n",
    "```\n",
    "Finally, the script plots the dependence of these two parameters on the command line as shown below and saves the pair of parameters to the file c:\\temp\\out.txt. To use this script on your computer, you will have to adjust the filenames.\n",
    "\n",
    "Image2"
   ]
  },
  {
   "cell_type": "markdown",
   "metadata": {},
   "source": [
    "## Calculation of FRET lines in Numpy\n",
    "\n",
    "It is straightforward to calculate a FRET line numerically in Numpy. A FRET line relates the fluorescence weighted average lifetime $latex \\langle \\tau \\rangle_f$ and the FRET efficiency, $latex E$. The fluorescence weighted average lifetime is given by the following integral:\n",
    "\n",
    "$$ \\langle \\tau \\rangle_f = \\int t \\cdot f(t) dt / \\int f(t) dt$$\n",
    "\n",
    "Here, $latex f(t)$ is the fluorescence intensity decay. If $latex f(t)$ can be approximated by a sum of exponential decays, the integral $latex \\int f(t) dt$ in the bounds from zero to infinity is given by\n",
    "\n",
    "$$ \\int f(t) dt = \\sum x_i \\tau_i$$\n",
    "\n",
    "where $latex \\tau_i$ are fluorescence lifetimes with the corresponding species fraction $latex x_i$. Similarly, the integral $latex \\int t \\cdot f(t) dt$ is given by the sum\n",
    "\n",
    "$$ \\int t \\cdot f(t) dt = \\sum x_i \\tau_i^2$$\n",
    "\n",
    "In the script shown below, these relations are used for an efficient calculation of FRET lines.\n",
    "\n",
    "As a first step, a distance distribution is calculated. Here, a linear axis \"rda\" is defined by the function \"np.linspace\" as a vector. For this vector, a function calculated the distance distribution p(RDA) is calculated. Every element of the distance vector relates to a FRET efficiency and a fluorescence lifetime. The functions \"fret2avfret\" and \"tau2tauf\" calculate for the distance distribution p(RDA) the corresponding average fluorescence lifetime and the average FRET efficiency, respectively. Next, a parameter defining the distance distribution, for a static FRET line the mean donor-acceptor distance and for a dynamic FRET line the fraction of a state, is varied. This variation results in a list relating the FRET efficiency to the fluorescence averaged lifetime. Finally, this list is plotted to yield a FRET line."
   ]
  },
  {
   "cell_type": "code",
   "execution_count": 4,
   "metadata": {},
   "outputs": [
    {
     "data": {
      "image/png": "[encoded data removed]",
      "text/plain": [
       "<Figure size 432x288 with 1 Axes>"
      ]
     },
     "metadata": {
      "needs_background": "light"
     },
     "output_type": "display_data"
    }
   ],
   "source": [
    "import numpy as np\n",
    "import pylab as p\n",
    "\n",
    "# Definition of normal distribution and Gaussian chain distribution\n",
    "pdf_norm = lambda x, mean, sigma: np.exp(-(x-mean)**2/(2*sigma**2))/np.sqrt(2*np.pi*sigma**2)\n",
    "pdf_mix = lambda x, m1, s1, m2, s2, x1: 0.5 * (x1 * pdf_norm(x, m1, s1) + (1-x1) * pdf_norm(x, m2, s1))\n",
    "\n",
    "rda2fret = lambda rda, r0: 1./(1+(rda/r0)**6.)\n",
    "rda2tau = lambda rda, tauD0, r0: (1-rda2fret(rda, r0))*tauD0\n",
    "tau2taux = lambda x, tau: np.dot(x,tau) / np.sum(x)\n",
    "fret2avfret = lambda x, fret: np.dot(x, fret) / np.sum(x)\n",
    "tau2tauf = lambda x, tau: np.dot(x,tau**2) / tau2taux(x,tau) / np.sum(x)\n",
    "\n",
    "tauD0 = 4.0\n",
    "r0 = 52.0\n",
    "sigma = 16.0\n",
    "rda = np.linspace(0, 250, 250)\n",
    "fret_efficiency = rda2fret(rda, r0)\n",
    "tau = rda2tau(rda, tauD0, r0)\n",
    "\n",
    "# Calculation of a static FRET line\n",
    "av_fret = list()\n",
    "tau_f = list()\n",
    "scan_range = np.linspace(5, 250, 500)\n",
    "for m_rda in scan_range:\n",
    "  x = pdf_norm(rda, m_rda, sigma)\n",
    "  tau_f.append(tau2tauf(x, tau))\n",
    "  av_fret.append(fret2avfret(x, fret_efficiency))\n",
    "static_fret = av_fret\n",
    "static_tau = tau_f\n",
    "\n",
    "# Calculation of a dynamic FRET line\n",
    "m1 = 40\n",
    "m2 = 60\n",
    "s1 = s2 = sigma\n",
    "av_fret = list()\n",
    "tau_f = list()\n",
    "scan_range = np.linspace(0, 1, 100)\n",
    "for x1 in scan_range:\n",
    "  x = pdf_mix(rda, m1, s1, m2, s2, x1)\n",
    "  tau_f.append(tau2tauf(x, tau))\n",
    "  av_fret.append(fret2avfret(x, fret_efficiency))\n",
    "dynamic_fret = av_fret\n",
    "dynamic_tau = tau_f\n",
    "\n",
    "p.plot(dynamic_tau, dynamic_fret)\n",
    "p.plot(static_tau, static_fret)\n",
    "p.show()"
   ]
  },
  {
   "cell_type": "markdown",
   "metadata": {},
   "source": [
    "The python script shown above generates two FRET lines, a static and a dynamic FRET line. The figure below displays these FRET lines as blue and green line, respectively."
   ]
  },
  {
   "cell_type": "markdown",
   "metadata": {},
   "source": [
    "## Summary\n",
    "\n",
    "FRET lines can be easily calculated by simple scripts as illustrated above either in separte scripts or in integrated fitting environments as ChiSurf. The advantage of calculating FRET lines in ChiSurf is, that more complex FRET lines can be easily calculated.\n",
    "\n",
    "Alternatively, FRET lines can be calculated as described in https://github.com/Fluorescence-Tools/FRETlines for normal distributions, the distance distribution between two Normal distributions, and Worm-like chain distribitions."
   ]
  }
 ],
 "metadata": {
  "kernelspec": {
   "display_name": "Python 3",
   "language": "python",
   "name": "python3"
  },
  "language_info": {
   "codemirror_mode": {
    "name": "ipython",
    "version": 3
   },
   "file_extension": ".py",
   "mimetype": "text/x-python",
   "name": "python",
   "nbconvert_exporter": "python",
   "pygments_lexer": "ipython3",
   "version": "3.7.3"
  }
 },
 "nbformat": 4,
 "nbformat_minor": 2
}
